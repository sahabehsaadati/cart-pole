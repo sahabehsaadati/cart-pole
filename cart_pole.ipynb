{
  "nbformat": 4,
  "nbformat_minor": 0,
  "metadata": {
    "colab": {
      "provenance": []
    },
    "kernelspec": {
      "name": "python3",
      "display_name": "Python 3"
    },
    "language_info": {
      "name": "python"
    }
  },
  "cells": [
    {
      "cell_type": "code",
      "source": [
        "import gym\n",
        "import numpy as np\n",
        "import matplotlib.pyplot as plt\n",
        "\n",
        "env = gym.make('CartPole-v1')"
      ],
      "metadata": {
        "id": "vfB9uN4e6kgy"
      },
      "execution_count": 112,
      "outputs": []
    },
    {
      "cell_type": "code",
      "source": [
        "# Hyperparameters\n",
        "LEARNING_RATE = 0.1\n",
        "DISCOUNT = 0.95\n",
        "RUNS = 10000\n",
        "SHOW_EVERY = 2000\n",
        "UPDATE_EVERY = 100"
      ],
      "metadata": {
        "id": "qTqtOZckOruy"
      },
      "execution_count": 88,
      "outputs": []
    },
    {
      "cell_type": "code",
      "source": [
        "# Exploration settings\n",
        "epsilon = 1\n",
        "START_EPSILON_DECAYING = 1\n",
        "END_EPSILON_DECAYING = RUNS // 2\n",
        "epsilon_decay_value = epsilon / (END_EPSILON_DECAYING - START_EPSILON_DECAYING)\n",
        "\n",
        "\n",
        "def create_bins_and_q_table():\n",
        "    num_bins = 20\n",
        "    obs_space_size = len(env.observation_space.high)\n",
        "    bins = [\n",
        "        np.linspace(-4.8, 4.8, num_bins),\n",
        "        np.linspace(-4, 4, num_bins),\n",
        "        np.linspace(-0.418, 0.418, num_bins),\n",
        "        np.linspace(-4, 4, num_bins)\n",
        "    ]\n",
        "    q_table = np.random.uniform(low=-2, high=0, size=(num_bins, num_bins, num_bins, num_bins, env.action_space.n))\n",
        "    return bins, obs_space_size, q_table\n"
      ],
      "metadata": {
        "id": "M3YhS4YuOvAA"
      },
      "execution_count": 89,
      "outputs": []
    },
    {
      "cell_type": "code",
      "source": [
        "def get_discrete_state(state, bins, obs_space_size):\n",
        "    discrete_state = []\n",
        "    for i in range(obs_space_size):\n",
        "        discrete_state.append(np.digitize(state[i], bins[i]) - 1)\n",
        "    return tuple(discrete_state)\n",
        "\n"
      ],
      "metadata": {
        "id": "rLL8iPn2O1PS"
      },
      "execution_count": 90,
      "outputs": []
    },
    {
      "cell_type": "code",
      "source": [
        "bins, obs_space_size, q_table = create_bins_and_q_table()\n",
        "\n",
        "previous_scores = []\n",
        "metrics = {'ep': [], 'avg': [], 'min': [], 'max': []}\n",
        "\n",
        "for run in range(RUNS):\n",
        "    discrete_state = get_discrete_state(env.reset(), bins, obs_space_size)\n",
        "    done = False\n",
        "    score = 0"
      ],
      "metadata": {
        "id": "4LGf4h56O2vS"
      },
      "execution_count": 91,
      "outputs": []
    },
    {
      "cell_type": "code",
      "source": [
        "while not done:\n",
        "    if run % SHOW_EVERY == 0:\n",
        "        env.render()\n",
        "\n",
        "    score += 1\n",
        "\n",
        "    # Exploration vs Exploitation\n",
        "    if np.random.random() > epsilon:\n",
        "        action = np.argmax(q_table[discrete_state])\n",
        "    else:\n",
        "        action = env.action_space.sample()\n",
        "\n",
        "    new_state, reward, done, _ = env.step(action)\n",
        "    new_discrete_state = get_discrete_state(new_state, bins, obs_space_size)\n",
        "\n",
        "    # Update Q-table\n",
        "    max_future_q = np.max(q_table[new_discrete_state])\n",
        "    current_q = q_table[discrete_state + (action,)]\n",
        "    new_q = (1 - LEARNING_RATE) * current_q + LEARNING_RATE * (reward + DISCOUNT * max_future_q)\n",
        "    q_table[discrete_state + (action,)] = new_q\n",
        "\n",
        "    discrete_state = new_discrete_state\n",
        "\n",
        "    previous_scores.append(score)\n",
        "\n",
        "    # Epsilon decay\n",
        "    if END_EPSILON_DECAYING >= run >= START_EPSILON_DECAYING:\n",
        "        epsilon -= epsilon_decay_value\n",
        "\n",
        "    # Update metrics\n",
        "    if run % UPDATE_EVERY == 0:\n",
        "        latest_scores = previous_scores[-UPDATE_EVERY:]\n",
        "        avg_score = sum(latest_scores) / len(latest_scores)\n",
        "        metrics['ep'].append(run)\n",
        "        metrics['avg'].append(avg_score)\n",
        "        metrics['min'].append(min(latest_scores))\n",
        "        metrics['max'].append(max(latest_scores))\n",
        "        print(\"Run:\", run, \"Average Score:\", avg_score, \"Min Score:\", min(latest_scores), \"Max Score:\", max(latest_scores))\n"
      ],
      "metadata": {
        "id": "nkF3mv6PPAL5"
      },
      "execution_count": 106,
      "outputs": []
    },
    {
      "cell_type": "code",
      "source": [
        "env.close()\n"
      ],
      "metadata": {
        "id": "EYIYWDwqPlry"
      },
      "execution_count": 107,
      "outputs": []
    },
    {
      "cell_type": "code",
      "source": [
        "# Plot metrics\n",
        "plt.plot(metrics['ep'], metrics['avg'], label=\"Average Score\")\n",
        "plt.plot(metrics['ep'], metrics['min'], label=\"Min Score\")\n",
        "plt.plot(metrics['ep'], metrics['max'], label=\"Max Score\")\n",
        "plt.xlabel(\"Episode\")\n",
        "plt.ylabel(\"Score\")\n",
        "plt.legend(loc=\"lower right\")\n",
        "plt.show()"
      ],
      "metadata": {
        "colab": {
          "base_uri": "https://localhost:8080/",
          "height": 449
        },
        "id": "1RDa8AhRQPiC",
        "outputId": "b1b225e8-65d7-4dd0-ce66-9d6bfe57fded"
      },
      "execution_count": 110,
      "outputs": [
        {
          "output_type": "display_data",
          "data": {
            "text/plain": [
              "<Figure size 640x480 with 1 Axes>"
            ],
            "image/png": "[encoded data removed]"
          },
          "metadata": {}
        }
      ]
    }
  ]
}